{
 "cells": [
  {
   "cell_type": "code",
   "execution_count": 1,
   "metadata": {
    "colab": {
     "base_uri": "https://localhost:8080/"
    },
    "executionInfo": {
     "elapsed": 54181,
     "status": "ok",
     "timestamp": 1647559830154,
     "user": {
      "displayName": "Watipaso Mulwafu",
      "photoUrl": "https://lh3.googleusercontent.com/a/default-user=s64",
      "userId": "12284672775269290337"
     },
     "user_tz": 420
    },
    "id": "kW1I2DggTR3k",
    "outputId": "3cd81dff-a5eb-4d09-edde-5086d5fac2ea"
   },
   "outputs": [
    {
     "name": "stdout",
     "output_type": "stream",
     "text": [
      "Mounted at /content/drive\n"
     ]
    }
   ],
   "source": [
    "#mounting drive\n",
    "from google.colab import drive\n",
    "drive.mount('/content/drive')"
   ]
  },
  {
   "cell_type": "code",
   "execution_count": 2,
   "metadata": {
    "colab": {
     "base_uri": "https://localhost:8080/"
    },
    "executionInfo": {
     "elapsed": 1095,
     "status": "ok",
     "timestamp": 1647560006075,
     "user": {
      "displayName": "Watipaso Mulwafu",
      "photoUrl": "https://lh3.googleusercontent.com/a/default-user=s64",
      "userId": "12284672775269290337"
     },
     "user_tz": 420
    },
    "id": "4RowNN05Vrjb",
    "outputId": "5b7b9b89-8209-4976-d557-19aa5c66a582"
   },
   "outputs": [
    {
     "name": "stdout",
     "output_type": "stream",
     "text": [
      "   Age Sex      BP Cholesterol  Na_to_K   Drug\n",
      "0   23   F    HIGH        HIGH   25.355  DrugY\n",
      "1   47   M     LOW        HIGH   13.093  drugC\n",
      "2   47   M     LOW        HIGH   10.114  drugC\n",
      "3   28   F  NORMAL        HIGH    7.798  drugX\n",
      "4   61   F     LOW        HIGH   18.043  DrugY\n"
     ]
    }
   ],
   "source": [
    "import pandas as pd  \n",
    "\n",
    "#create dataframe using pandas to read from drive\n",
    "df = pd.read_csv('../content/drive/My Drive/drug200.csv')\n",
    "print(df.head())\n",
    " "
   ]
  },
  {
   "cell_type": "code",
   "execution_count": 3,
   "metadata": {
    "colab": {
     "base_uri": "https://localhost:8080/"
    },
    "executionInfo": {
     "elapsed": 33,
     "status": "ok",
     "timestamp": 1647560144767,
     "user": {
      "displayName": "Watipaso Mulwafu",
      "photoUrl": "https://lh3.googleusercontent.com/a/default-user=s64",
      "userId": "12284672775269290337"
     },
     "user_tz": 420
    },
    "id": "cVKwaePpdd2E",
    "outputId": "6b76f227-295c-4620-c3c6-b9c897fd73d3"
   },
   "outputs": [
    {
     "name": "stdout",
     "output_type": "stream",
     "text": [
      "<class 'pandas.core.frame.DataFrame'>\n",
      "RangeIndex: 200 entries, 0 to 199\n",
      "Data columns (total 6 columns):\n",
      " #   Column       Non-Null Count  Dtype  \n",
      "---  ------       --------------  -----  \n",
      " 0   Age          200 non-null    int64  \n",
      " 1   Sex          200 non-null    object \n",
      " 2   BP           200 non-null    object \n",
      " 3   Cholesterol  200 non-null    object \n",
      " 4   Na_to_K      200 non-null    float64\n",
      " 5   Drug         200 non-null    object \n",
      "dtypes: float64(1), int64(1), object(4)\n",
      "memory usage: 9.5+ KB\n",
      "None\n"
     ]
    }
   ],
   "source": [
    "print(df.info())"
   ]
  },
  {
   "cell_type": "code",
   "execution_count": 5,
   "metadata": {
    "colab": {
     "base_uri": "https://localhost:8080/",
     "height": 1000
    },
    "executionInfo": {
     "elapsed": 1706,
     "status": "ok",
     "timestamp": 1647561566156,
     "user": {
      "displayName": "Watipaso Mulwafu",
      "photoUrl": "https://lh3.googleusercontent.com/a/default-user=s64",
      "userId": "12284672775269290337"
     },
     "user_tz": 420
    },
    "id": "2suRSaYReIpi",
    "outputId": "1f56f86c-85f5-46cb-fec1-98ec6ed3726c"
   },
   "outputs": [
    {
     "name": "stdout",
     "output_type": "stream",
     "text": [
      "['Sex', 'BP', 'Cholesterol', 'Drug']\n",
      "Index(['Age', 'Na_to_K'], dtype='object')\n"
     ]
    },
    {
     "name": "stderr",
     "output_type": "stream",
     "text": [
      "/usr/local/lib/python3.7/dist-packages/seaborn/_decorators.py:43: FutureWarning: Pass the following variable as a keyword arg: x. From version 0.12, the only valid positional argument will be `data`, and passing other arguments without an explicit keyword will result in an error or misinterpretation.\n",
      "  FutureWarning\n"
     ]
    },
    {
     "data": {
      "image/png": "[encoded data removed]",
      "text/plain": [
       "<Figure size 432x288 with 1 Axes>"
      ]
     },
     "metadata": {
      "needs_background": "light"
     },
     "output_type": "display_data"
    },
    {
     "name": "stderr",
     "output_type": "stream",
     "text": [
      "/usr/local/lib/python3.7/dist-packages/seaborn/_decorators.py:43: FutureWarning: Pass the following variable as a keyword arg: x. From version 0.12, the only valid positional argument will be `data`, and passing other arguments without an explicit keyword will result in an error or misinterpretation.\n",
      "  FutureWarning\n"
     ]
    },
    {
     "data": {
      "image/png": "[encoded data removed]",
      "text/plain": [
       "<Figure size 432x288 with 1 Axes>"
      ]
     },
     "metadata": {
      "needs_background": "light"
     },
     "output_type": "display_data"
    },
    {
     "name": "stderr",
     "output_type": "stream",
     "text": [
      "/usr/local/lib/python3.7/dist-packages/seaborn/_decorators.py:43: FutureWarning: Pass the following variable as a keyword arg: x. From version 0.12, the only valid positional argument will be `data`, and passing other arguments without an explicit keyword will result in an error or misinterpretation.\n",
      "  FutureWarning\n"
     ]
    },
    {
     "data": {
      "image/png": "[encoded data removed]",
      "text/plain": [
       "<Figure size 432x288 with 1 Axes>"
      ]
     },
     "metadata": {
      "needs_background": "light"
     },
     "output_type": "display_data"
    },
    {
     "name": "stderr",
     "output_type": "stream",
     "text": [
      "/usr/local/lib/python3.7/dist-packages/seaborn/_decorators.py:43: FutureWarning: Pass the following variable as a keyword arg: x. From version 0.12, the only valid positional argument will be `data`, and passing other arguments without an explicit keyword will result in an error or misinterpretation.\n",
      "  FutureWarning\n"
     ]
    },
    {
     "data": {
      "image/png": "[encoded data removed]",
      "text/plain": [
       "<Figure size 432x288 with 1 Axes>"
      ]
     },
     "metadata": {
      "needs_background": "light"
     },
     "output_type": "display_data"
    }
   ],
   "source": [
    "import matplotlib.pyplot as plt  \n",
    "import seaborn as sns\n",
    "\n",
    "#categorical columns\n",
    "categ_column=[column for column in df.columns if df[column].dtype=='object']\n",
    "print(categ_column)\n",
    "\n",
    "#numerical columns\n",
    "numeric_column=df.drop(categ_column,axis=1).columns\n",
    "print(numeric_column)\n",
    "\n",
    "#sns.countplot(x=df['Sex'])\n",
    "#plt.show()\n",
    "for column in categ_column:\n",
    "    sns.countplot(df[column],hue=df['Drug'])\n",
    "    plt.show()\n",
    "\n",
    "#1.We observe that the drug C is preferred to give only to the people having Low Blood pressure,\n",
    "#2.Drug X is not given to the people with High Blood pressure,\n",
    "#3.Drug B and Drug A is given only to the person with High BP, and\n",
    "#4.Drug C is given only to the people with high cholesterol"
   ]
  },
  {
   "cell_type": "code",
   "execution_count": 6,
   "metadata": {
    "colab": {
     "base_uri": "https://localhost:8080/",
     "height": 542
    },
    "executionInfo": {
     "elapsed": 780,
     "status": "ok",
     "timestamp": 1647561571544,
     "user": {
      "displayName": "Watipaso Mulwafu",
      "photoUrl": "https://lh3.googleusercontent.com/a/default-user=s64",
      "userId": "12284672775269290337"
     },
     "user_tz": 420
    },
    "id": "cuxqqxufayZ_",
    "outputId": "84d138bb-8886-44cb-c01b-026f7a2fb649"
   },
   "outputs": [
    {
     "data": {
      "image/png": "[encoded data removed]",
      "text/plain": [
       "<Figure size 432x288 with 1 Axes>"
      ]
     },
     "metadata": {
      "needs_background": "light"
     },
     "output_type": "display_data"
    },
    {
     "data": {
      "image/png": "[encoded data removed]",
      "text/plain": [
       "<Figure size 432x288 with 1 Axes>"
      ]
     },
     "metadata": {
      "needs_background": "light"
     },
     "output_type": "display_data"
    }
   ],
   "source": [
    "for column in numeric_column:\n",
    "    plt.hist(df[column],bins=5,rwidth=0.5)\n",
    "    plt.xlabel(column)\n",
    "    plt.ylabel('count')\n",
    "    plt.show()"
   ]
  },
  {
   "cell_type": "code",
   "execution_count": 7,
   "metadata": {
    "colab": {
     "base_uri": "https://localhost:8080/",
     "height": 631
    },
    "executionInfo": {
     "elapsed": 612,
     "status": "ok",
     "timestamp": 1647561576422,
     "user": {
      "displayName": "Watipaso Mulwafu",
      "photoUrl": "https://lh3.googleusercontent.com/a/default-user=s64",
      "userId": "12284672775269290337"
     },
     "user_tz": 420
    },
    "id": "YpJJnR0A20ow",
    "outputId": "5d678d1e-1e3b-4f66-a0d3-892a4b405f51"
   },
   "outputs": [
    {
     "name": "stderr",
     "output_type": "stream",
     "text": [
      "/usr/local/lib/python3.7/dist-packages/seaborn/_decorators.py:43: FutureWarning: Pass the following variable as a keyword arg: x. From version 0.12, the only valid positional argument will be `data`, and passing other arguments without an explicit keyword will result in an error or misinterpretation.\n",
      "  FutureWarning\n"
     ]
    },
    {
     "data": {
      "image/png": "[encoded data removed]",
      "text/plain": [
       "<Figure size 432x288 with 1 Axes>"
      ]
     },
     "metadata": {
      "needs_background": "light"
     },
     "output_type": "display_data"
    },
    {
     "name": "stderr",
     "output_type": "stream",
     "text": [
      "/usr/local/lib/python3.7/dist-packages/seaborn/_decorators.py:43: FutureWarning: Pass the following variable as a keyword arg: x. From version 0.12, the only valid positional argument will be `data`, and passing other arguments without an explicit keyword will result in an error or misinterpretation.\n",
      "  FutureWarning\n"
     ]
    },
    {
     "data": {
      "image/png": "[encoded data removed]",
      "text/plain": [
       "<Figure size 432x288 with 1 Axes>"
      ]
     },
     "metadata": {
      "needs_background": "light"
     },
     "output_type": "display_data"
    }
   ],
   "source": [
    "#finding outliers\n",
    "#minimum, first quartile, median, third quartile, and maximum\n",
    "for column in numeric_column:\n",
    "    sns.boxplot(df[column])\n",
    "    plt.show()\n"
   ]
  },
  {
   "cell_type": "code",
   "execution_count": 8,
   "metadata": {
    "colab": {
     "base_uri": "https://localhost:8080/",
     "height": 352
    },
    "executionInfo": {
     "elapsed": 16,
     "status": "ok",
     "timestamp": 1647561580205,
     "user": {
      "displayName": "Watipaso Mulwafu",
      "photoUrl": "https://lh3.googleusercontent.com/a/default-user=s64",
      "userId": "12284672775269290337"
     },
     "user_tz": 420
    },
    "id": "w6l5G2uX9PXc",
    "outputId": "e17b8d41-5827-4a5e-8e2b-0718b6aa644b"
   },
   "outputs": [
    {
     "name": "stderr",
     "output_type": "stream",
     "text": [
      "/usr/local/lib/python3.7/dist-packages/seaborn/_decorators.py:43: FutureWarning: Pass the following variable as a keyword arg: x. From version 0.12, the only valid positional argument will be `data`, and passing other arguments without an explicit keyword will result in an error or misinterpretation.\n",
      "  FutureWarning\n"
     ]
    },
    {
     "data": {
      "text/plain": [
       "<matplotlib.axes._subplots.AxesSubplot at 0x7f1418191a90>"
      ]
     },
     "execution_count": 8,
     "metadata": {},
     "output_type": "execute_result"
    },
    {
     "data": {
      "image/png": "[encoded data removed]",
      "text/plain": [
       "<Figure size 432x288 with 1 Axes>"
      ]
     },
     "metadata": {
      "needs_background": "light"
     },
     "output_type": "display_data"
    }
   ],
   "source": [
    "#removing outliers\n",
    "#first quartile\n",
    "Q1=df['Na_to_K'].quantile(0.25)\n",
    "\n",
    "# 3rd quartile\n",
    "Q3=df['Na_to_K'].quantile(0.75)\n",
    "\n",
    "#Inter quartile range\n",
    "IQR=Q3-Q1\n",
    "\n",
    "#upper fence = Q3+1.5*IQR\n",
    "upper=Q3+ 1.5*IQR\n",
    "\n",
    "#lower fence= Q1-1.5*IQR\n",
    "lower= Q1 - 1.5*IQR\n",
    "\n",
    "#conditions\n",
    "df=df[(df['Na_to_K']<upper) & (df['Na_to_K']>lower)]\n",
    "sns.boxplot(df['Na_to_K'])"
   ]
  },
  {
   "cell_type": "code",
   "execution_count": 9,
   "metadata": {
    "colab": {
     "base_uri": "https://localhost:8080/"
    },
    "executionInfo": {
     "elapsed": 445,
     "status": "ok",
     "timestamp": 1647561583665,
     "user": {
      "displayName": "Watipaso Mulwafu",
      "photoUrl": "https://lh3.googleusercontent.com/a/default-user=s64",
      "userId": "12284672775269290337"
     },
     "user_tz": 420
    },
    "id": "JQmAKHom_Y5Q",
    "outputId": "0178cfbc-7b47-45a8-c642-c1eaa5854bcc"
   },
   "outputs": [
    {
     "name": "stdout",
     "output_type": "stream",
     "text": [
      "   Age  Sex  BP  Cholesterol  Na_to_K  Drug\n",
      "0   23    0   0            0   25.355     0\n",
      "1   47    1   1            0   13.093     3\n",
      "2   47    1   1            0   10.114     3\n",
      "3   28    0   2            0    7.798     4\n",
      "4   61    0   1            0   18.043     0\n"
     ]
    }
   ],
   "source": [
    "from sklearn.preprocessing import LabelEncoder\n",
    "#convert categorical columns to numbers\n",
    "for column in categ_column:\n",
    "    le=LabelEncoder()\n",
    "    df[column]=le.fit_transform(df[column])\n",
    "\n",
    "print(df.head())"
   ]
  },
  {
   "cell_type": "code",
   "execution_count": null,
   "metadata": {
    "id": "cB_KPWI-BP0Q"
   },
   "outputs": [],
   "source": [
    "from sklearn.model_selection import  train_test_split\n",
    "\n",
    "#train test split\n",
    "X_train, X_test, y_train, y_test = train_test_split(df.drop('Drug',axis=1), df['Drug'], test_size=0.2,stratify=df['Drug'])"
   ]
  },
  {
   "cell_type": "code",
   "execution_count": null,
   "metadata": {
    "colab": {
     "base_uri": "https://localhost:8080/"
    },
    "executionInfo": {
     "elapsed": 477,
     "status": "ok",
     "timestamp": 1646835494899,
     "user": {
      "displayName": "Watipaso Mulwafu",
      "photoUrl": "https://lh3.googleusercontent.com/a/default-user=s64",
      "userId": "12284672775269290337"
     },
     "user_tz": -120
    },
    "id": "p-DsBq6bCQge",
    "outputId": "2780e247-f46c-4c72-8fa8-23d2bff6c797"
   },
   "outputs": [
    {
     "data": {
      "text/plain": [
       "array([[17,  0,  0,  0,  0],\n",
       "       [ 2,  2,  1,  0,  0],\n",
       "       [ 2,  0,  1,  0,  0],\n",
       "       [ 1,  0,  0,  0,  2],\n",
       "       [ 0,  0,  0,  0, 11]])"
      ]
     },
     "execution_count": 12,
     "metadata": {},
     "output_type": "execute_result"
    }
   ],
   "source": [
    "from sklearn.linear_model import LogisticRegression\n",
    "from sklearn.metrics import confusion_matrix\n",
    "\n",
    "#Logistic Regression Model\n",
    "model_lr=LogisticRegression(solver='liblinear')\n",
    "model_lr.fit(X_train, y_train)\n",
    "\n",
    "ypred_lr=model_lr.predict(X_test)\n",
    "confusion_matrix(y_test,ypred_lr)"
   ]
  },
  {
   "cell_type": "code",
   "execution_count": null,
   "metadata": {
    "colab": {
     "base_uri": "https://localhost:8080/"
    },
    "executionInfo": {
     "elapsed": 734,
     "status": "ok",
     "timestamp": 1646835690310,
     "user": {
      "displayName": "Watipaso Mulwafu",
      "photoUrl": "https://lh3.googleusercontent.com/a/default-user=s64",
      "userId": "12284672775269290337"
     },
     "user_tz": -120
    },
    "id": "6k1cKM3qC4Q2",
    "outputId": "0e785174-770d-400a-8d77-c52cbbf5ba94"
   },
   "outputs": [
    {
     "name": "stdout",
     "output_type": "stream",
     "text": [
      "              precision    recall  f1-score   support\n",
      "\n",
      "           0       0.77      1.00      0.87        17\n",
      "           1       1.00      0.40      0.57         5\n",
      "           2       0.50      0.33      0.40         3\n",
      "           3       0.00      0.00      0.00         3\n",
      "           4       0.85      1.00      0.92        11\n",
      "\n",
      "    accuracy                           0.79        39\n",
      "   macro avg       0.62      0.55      0.55        39\n",
      "weighted avg       0.74      0.79      0.74        39\n",
      "\n"
     ]
    },
    {
     "name": "stderr",
     "output_type": "stream",
     "text": [
      "/usr/local/lib/python3.7/dist-packages/sklearn/metrics/_classification.py:1318: UndefinedMetricWarning: Precision and F-score are ill-defined and being set to 0.0 in labels with no predicted samples. Use `zero_division` parameter to control this behavior.\n",
      "  _warn_prf(average, modifier, msg_start, len(result))\n",
      "/usr/local/lib/python3.7/dist-packages/sklearn/metrics/_classification.py:1318: UndefinedMetricWarning: Precision and F-score are ill-defined and being set to 0.0 in labels with no predicted samples. Use `zero_division` parameter to control this behavior.\n",
      "  _warn_prf(average, modifier, msg_start, len(result))\n",
      "/usr/local/lib/python3.7/dist-packages/sklearn/metrics/_classification.py:1318: UndefinedMetricWarning: Precision and F-score are ill-defined and being set to 0.0 in labels with no predicted samples. Use `zero_division` parameter to control this behavior.\n",
      "  _warn_prf(average, modifier, msg_start, len(result))\n"
     ]
    }
   ],
   "source": [
    "from sklearn.metrics import classification_report\n",
    "\n",
    "#gets the metrics we have looked at\n",
    "print(classification_report(y_test,ypred_lr))"
   ]
  }
 ],
 "metadata": {
  "colab": {
   "authorship_tag": "ABX9TyPabvtrDHyWOz9NrVfqRbzy",
   "name": "DrugPredictor.ipynb",
   "provenance": []
  },
  "kernelspec": {
   "display_name": "Python 3 (ipykernel)",
   "language": "python",
   "name": "python3"
  },
  "language_info": {
   "codemirror_mode": {
    "name": "ipython",
    "version": 3
   },
   "file_extension": ".py",
   "mimetype": "text/x-python",
   "name": "python",
   "nbconvert_exporter": "python",
   "pygments_lexer": "ipython3",
   "version": "3.9.7"
  }
 },
 "nbformat": 4,
 "nbformat_minor": 1
}
